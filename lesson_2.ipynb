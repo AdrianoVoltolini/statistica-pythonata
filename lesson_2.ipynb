{
 "cells": [
  {
   "cell_type": "code",
   "execution_count": 15,
   "metadata": {},
   "outputs": [],
   "source": [
    "import pandas as pd\n",
    "import numpy as np\n",
    "import matplotlib.pyplot as plt\n",
    "from copy import copy\n",
    "from sklearn.discriminant_analysis import LinearDiscriminantAnalysis, QuadraticDiscriminantAnalysis\n",
    "from sklearn.linear_model import LogisticRegression, LinearRegression, PoissonRegressor\n",
    "from sklearn.metrics import confusion_matrix, accuracy_score"
   ]
  },
  {
   "cell_type": "markdown",
   "metadata": {},
   "source": [
    "# Statistical Learning, Lab #2: LDA, QDA, Poisson regression\n",
    "\n",
    "## Linear Discriminant Analysis\n",
    "\n",
    "We’ll use the Stock market data again:"
   ]
  },
  {
   "cell_type": "code",
   "execution_count": 2,
   "metadata": {},
   "outputs": [],
   "source": [
    "\n",
    "Smarket = pd.read_csv(\"Smarket.csv\", index_col=0)\n",
    "dataf = copy(Smarket)"
   ]
  },
  {
   "cell_type": "markdown",
   "metadata": {},
   "source": [
    "As we previously did with Logistic Regression in Lab1, we fit the model using only observations before 2005 (identified by the train boolean variable) with only Lag1 and Lag2 as predictors, and we want to predict the market direction for 2005."
   ]
  },
  {
   "cell_type": "code",
   "execution_count": 3,
   "metadata": {},
   "outputs": [],
   "source": [
    "predictors = dataf[[\"Lag1\",\"Lag2\"]]\n",
    "\n",
    "pred_train = predictors[dataf[\"Year\"] != np.max(dataf[\"Year\"])]\n",
    "pred_test = predictors[dataf[\"Year\"] == np.max(dataf[\"Year\"])]\n",
    "\n",
    "Direction_train = dataf[dataf[\"Year\"] != np.max(dataf[\"Year\"])][\"Direction\"]\n",
    "Direction_test = dataf[dataf[\"Year\"] == np.max(dataf[\"Year\"])][\"Direction\"]"
   ]
  },
  {
   "cell_type": "markdown",
   "metadata": {},
   "source": [
    "We are now going to fit a LDA model using python’s LinearDiscriminantAnalysis() function, contained in the scikit-learn library."
   ]
  },
  {
   "cell_type": "code",
   "execution_count": 4,
   "metadata": {},
   "outputs": [
    {
     "name": "stdout",
     "output_type": "stream",
     "text": [
      "Prior probabilities of groups:\n",
      "Down    0.491984\n",
      "Up      0.508016\n",
      "\n",
      "Group means:\n",
      "          Lag1      Lag2\n",
      "Down  0.042790  0.033894\n",
      "Up   -0.039546 -0.031325\n",
      "\n",
      "Coefficients of linear discriminants:\n",
      "           LDA\n",
      "Lag1 -0.642019\n",
      "Lag2 -0.513529\n"
     ]
    }
   ],
   "source": [
    "lda_fit = LinearDiscriminantAnalysis()\n",
    "lda_fit.fit(pred_train, Direction_train)\n",
    "\n",
    "print(\"Prior probabilities of groups:\")\n",
    "print(pd.Series(lda_fit.priors_,index=lda_fit.classes_).to_string())\n",
    "\n",
    "print(\"\\nGroup means:\")\n",
    "print(pd.DataFrame(lda_fit.means_,index=lda_fit.classes_, columns=pred_train.columns))\n",
    "\n",
    "print(\"\\nCoefficients of linear discriminants:\")\n",
    "print(pd.DataFrame(lda_fit.scalings_,index=pred_train.columns, columns=[\"LDA\"]))"
   ]
  },
  {
   "cell_type": "markdown",
   "metadata": {},
   "source": [
    "Note the \"prior probabilities of groups\", indicating that, for example, the 50.8% of training data are of days during which the market went Up.\n",
    "\n",
    "The \"Group means\" tell us that the returns of the previous days tend to be positive on days when the market goes Down, and tend to be negative when the market goes Up.\n",
    "\n",
    "The \"Coefficients of linear discriminants\" represent the linear combination of `Lag1` and `Lag2` used for the LDA decision rule: in our case, $-0.642 \\times Lag1 - 0.514 \\times Lag2$. If this quantity is large, then the LDA model will predict a market increase (`Up`), and if it is small, LDA will predict a market decline (`Down`).\n",
    "\n",
    "After we use `predict()` and `predict.proba()` on new data, we get 2 elements:\n",
    "\n",
    "* the predictions;\n",
    "* the posterior probability of an observation belonging to the class k;\n",
    "\n"
   ]
  },
  {
   "cell_type": "code",
   "execution_count": 5,
   "metadata": {},
   "outputs": [
    {
     "name": "stdout",
     "output_type": "stream",
     "text": [
      "20    Down\n",
      "21    Down\n",
      "22    Down\n",
      "23      Up\n",
      "24    Down\n",
      "25    Down\n",
      "26      Up\n",
      "27      Up\n",
      "28      Up\n",
      "29    Down\n",
      "        Down        Up\n",
      "20  0.500657  0.499343\n",
      "21  0.510874  0.489126\n",
      "22  0.503992  0.496008\n",
      "23  0.491634  0.508366\n",
      "24  0.504177  0.495823\n",
      "25  0.502675  0.497325\n",
      "26  0.491404  0.508596\n",
      "27  0.480596  0.519404\n",
      "28  0.488272  0.511728\n",
      "29  0.506219  0.493781\n",
      "\n",
      "Confusion matrix:\n",
      " [[ 35  35]\n",
      " [ 76 106]]\n",
      "\n",
      "Accuracy: 0.5595238095238095\n"
     ]
    }
   ],
   "source": [
    "lda_predictions = lda_fit.predict(pred_test)\n",
    "lda_probabilities = lda_fit.predict_proba(pred_test)\n",
    "print(pd.Series(lda_predictions)[20:30].to_string())\n",
    "print(pd.DataFrame(lda_probabilities,columns=lda_fit.classes_).loc[20:29,:])\n",
    "\n",
    "print(\"\\nConfusion matrix:\\n\", confusion_matrix(lda_predictions, Direction_test))\n",
    "print(\"\\nAccuracy:\", accuracy_score(lda_predictions, Direction_test))"
   ]
  },
  {
   "cell_type": "markdown",
   "metadata": {},
   "source": [
    "Since in the previous lab we fit a logistic regression model on the same data, we can repeat the analysis to quickly compare the performance:"
   ]
  },
  {
   "cell_type": "code",
   "execution_count": 6,
   "metadata": {},
   "outputs": [
    {
     "name": "stdout",
     "output_type": "stream",
     "text": [
      "\n",
      "Confusion matrix:\n",
      " [[ 35  35]\n",
      " [ 76 106]]\n",
      "\n",
      "Accuracy: 0.5595238095238095\n"
     ]
    }
   ],
   "source": [
    "glm_fit = LogisticRegression()\n",
    "glm_fit.fit(pred_train, Direction_train)\n",
    "\n",
    "glm_predictions = lda_fit.predict(pred_test)\n",
    "glm_probabilities = lda_fit.predict_proba(pred_test)\n",
    "\n",
    "print(\"\\nConfusion matrix:\\n\", confusion_matrix(glm_predictions, Direction_test))\n",
    "print(\"\\nAccuracy:\", accuracy_score(glm_predictions, Direction_test))"
   ]
  },
  {
   "cell_type": "markdown",
   "metadata": {},
   "source": [
    "The performance is identical to that of logistic regression.\n",
    "\n",
    "Let's go back to LDA. If we threshold the posterior probabilities using the usual 0.5 threshold, we obtain the predictions reported by `lda.predict()`. \n",
    "\n",
    "We could also use a different threshold to make predictions: for example, 90% instead of 50%. This is easily done:"
   ]
  },
  {
   "cell_type": "code",
   "execution_count": 7,
   "metadata": {},
   "outputs": [
    {
     "name": "stdout",
     "output_type": "stream",
     "text": [
      "Down >= 0.9: 0\n",
      "maximum of Down: 0.5202349505356155\n"
     ]
    }
   ],
   "source": [
    "\n",
    "print(f\"Down >= 0.9: {lda_probabilities[tuple([lda_probabilities[:,0] >= 0.9])].shape[0]}\") #Zero!\n",
    "print(f\"maximum of Down: {max(lda_probabilities[:,0])}\") # well, actually the max is...\n"
   ]
  },
  {
   "cell_type": "markdown",
   "metadata": {},
   "source": [
    "## Quadratic Discriminant Analysis\n",
    "\n",
    "Similarly, we are now fitting a QDA model to our `Smarket` data (stored in the `df` variable). QDA is implemented in the `QuadraticDiscriminantAnalysis()` function (`scikit-learn` library), which has the same syntax as `LinearDiscriminantAnalysis()`:"
   ]
  },
  {
   "cell_type": "code",
   "execution_count": 8,
   "metadata": {},
   "outputs": [
    {
     "name": "stdout",
     "output_type": "stream",
     "text": [
      "Prior probabilities of groups:\n",
      "Down    0.491984\n",
      "Up      0.508016\n",
      "\n",
      "Group means:\n",
      "          Lag1      Lag2\n",
      "Down  0.042790  0.033894\n",
      "Up   -0.039546 -0.031325\n",
      "\n",
      "Coefficients of linear discriminants:\n",
      "        Linear  Quadratic\n",
      "Lag1  1.562945   1.479273\n",
      "Lag2  1.534551   1.472723\n"
     ]
    }
   ],
   "source": [
    "qda_fit = QuadraticDiscriminantAnalysis()\n",
    "qda_fit.fit(pred_train, Direction_train)\n",
    "\n",
    "print(\"Prior probabilities of groups:\")\n",
    "print(pd.Series(qda_fit.priors_,index=qda_fit.classes_).to_string())\n",
    "\n",
    "print(\"\\nGroup means:\")\n",
    "print(pd.DataFrame(qda_fit.means_,index=qda_fit.classes_, columns=pred_train.columns))\n",
    "\n",
    "print(\"\\nCoefficients of linear discriminants:\")\n",
    "print(pd.DataFrame(qda_fit.scalings_,index=pred_train.columns, columns=[\"Linear\",\"Quadratic\"]))\n"
   ]
  },
  {
   "cell_type": "markdown",
   "metadata": {},
   "source": [
    "As usual, we fitted a QDA model on the training portion of `dataf`.\n",
    "\n",
    "Compare the output with LDA's. What's different?\n",
    "\n",
    "Well, the coefficients of discriminants are four now, since the QDA model involves a quadratic function of the predictors.\n",
    "\n",
    "We can `predict()` on unseen data (`df.2005`) exactly like we are used to:"
   ]
  },
  {
   "cell_type": "code",
   "execution_count": 9,
   "metadata": {},
   "outputs": [
    {
     "name": "stdout",
     "output_type": "stream",
     "text": [
      "20      Up\n",
      "21    Down\n",
      "22    Down\n",
      "23      Up\n",
      "24    Down\n",
      "25    Down\n",
      "26      Up\n",
      "27      Up\n",
      "28      Up\n",
      "29    Down\n",
      "        Down        Up\n",
      "20  0.497838  0.502162\n",
      "21  0.508823  0.491177\n",
      "22  0.501994  0.498006\n",
      "23  0.489090  0.510910\n",
      "24  0.501155  0.498845\n",
      "25  0.502943  0.497057\n",
      "26  0.488594  0.511406\n",
      "27  0.477367  0.522633\n",
      "28  0.487549  0.512451\n",
      "29  0.503184  0.496816\n",
      "\n",
      "Confusion matrix:\n",
      " [[ 30  20]\n",
      " [ 81 121]]\n",
      "\n",
      "Accuracy: 0.5992063492063492\n"
     ]
    }
   ],
   "source": [
    "qda_predictions = qda_fit.predict(pred_test)\n",
    "qda_probabilities = qda_fit.predict_proba(pred_test)\n",
    "print(pd.Series(qda_predictions)[20:30].to_string())\n",
    "print(pd.DataFrame(qda_probabilities,columns=qda_fit.classes_).loc[20:29,:])\n",
    "\n",
    "print(\"\\nConfusion matrix:\\n\", confusion_matrix(qda_predictions, Direction_test))\n",
    "print(\"\\nAccuracy:\", accuracy_score(qda_predictions, Direction_test))"
   ]
  },
  {
   "cell_type": "markdown",
   "metadata": {},
   "source": [
    "\n",
    "We reach an accuracy of about 60%: this is interesting, given that we didn't use the 2005 data to fit the model and that the stock market is known to be hard to model accurately.\n",
    "\n",
    "This means that the quadratic form in the QDA model is able to model the relationship between data and outcome *more accurately than the linear forms* in LDA and logistic regression.\n",
    "\n",
    "Before making any further inference, remember that it is better to evaluate the performance of this model on an even larger test set!\n",
    "\n",
    "## Poisson regression\n",
    "\n",
    "This family of generalized linear models is particularly used for modeling events where the outcomes are counts, or in general *count data* (discrete data with non-negative integer values). A typical example is the number of times an event occurs in a specific timeframe. Note that count data can also be expressed as *rates* or *frequencies*.\n",
    "\n",
    "So far, we have been experimenting on the `Smarket` data set: let's focus now on a new data set, `Bikeshare`."
   ]
  },
  {
   "cell_type": "code",
   "execution_count": 10,
   "metadata": {},
   "outputs": [
    {
     "name": "stdout",
     "output_type": "stream",
     "text": [
      "['season', 'mnth', 'day', 'hr', 'holiday', 'weekday', 'workingday', 'weathersit', 'temp', 'atemp', 'hum', 'windspeed', 'casual', 'registered', 'bikers']\n"
     ]
    }
   ],
   "source": [
    "Bikeshare = pd.read_csv(\"Bikeshare.csv\", index_col=0)\n",
    "dataf = copy(Bikeshare)\n",
    "\n",
    "print(dataf.columns.to_list())"
   ]
  },
  {
   "cell_type": "markdown",
   "metadata": {},
   "source": [
    "This data set reports the number of bike rentals per hour (`bikers`) in Washington, D.C., among with other variables such as:\n",
    "\n",
    "* `mnth`, month of the year (factor)\n",
    "* `hr`, hour of the day (factor)\n",
    "* `workingday`, working day Yes/No (dummy variable with values 1/0)\n",
    "* `temp`, normalized temperature in Celsius\n",
    "* `weathersit`, weather condition (factor with 4 levels)\n",
    "\n",
    ">Do you recall what a \"dummy variable\" is?\n",
    "\n",
    "We will use these five variables as predictors to model the target variable `bikers`.\n",
    "\n",
    "The number of rentals per hours can take only non-negative integer values: it is a suitable setting for applying Poisson regression.\n",
    "\n",
    "We start by fitting a poisson regression model to the data:"
   ]
  },
  {
   "cell_type": "code",
   "execution_count": 11,
   "metadata": {},
   "outputs": [
    {
     "name": "stdout",
     "output_type": "stream",
     "text": [
      "workingday    0.012778\n",
      "temp          0.882155\n",
      "mnth_April    0.008188\n",
      "mnth_Aug      0.112196\n",
      "mnth_Dec      0.018168\n",
      "mnth_Feb     -0.367149\n",
      "mnth_Jan     -0.533695\n",
      "mnth_July     0.063451\n",
      "mnth_June     0.181601\n",
      "mnth_March   -0.253606\n",
      "mnth_May      0.206811\n",
      "mnth_Nov      0.133476\n",
      "mnth_Oct      0.236782\n",
      "mnth_Sept     0.193744\n"
     ]
    }
   ],
   "source": [
    "#preprocessing of categorical predictors\n",
    "categorical_columns = [\"mnth\",\"hr\",\"weathersit\"]\n",
    "newdataf = pd.get_dummies(dataf, columns=categorical_columns)\n",
    "\n",
    "predictors = newdataf.drop(['season', 'day', 'holiday', 'weekday', 'atemp','hum','windspeed',\n",
    "    'casual','registered', 'bikers'],axis=1)\n",
    "\n",
    "mod_pois = PoissonRegressor()\n",
    "mod_pois.fit(predictors,dataf[\"bikers\"])\n",
    "\n",
    "coefficients = pd.Series(mod_pois.coef_,index=predictors.columns)\n",
    "print(coefficients[:14].to_string())"
   ]
  },
  {
   "cell_type": "markdown",
   "metadata": {},
   "source": [
    "To interpret the results, let's recall the general mathematical form of Poisson regression:\n",
    "\n",
    "$$ log(E[y|x]) = \\alpha + \\sum_{i=1}^{p}\\beta_i x_i $$\n",
    "\n",
    "In the model summary, `Estimate` contains the coefficient values of $\\alpha$ (the intercept), $\\beta_1$, and so on.\n",
    "\n",
    "* $exp(\\alpha)$ is the effect on the mean when $x=0$;\n",
    "* for $\\beta=0$ the expected count is $exp(\\alpha)$ (y and x are not related)\n",
    "* $\\beta>0$ means that the expected count is $exp(\\beta)$ times *larger* than when $x=0$;\n",
    "* $\\beta<0$ means that the expected count is $exp(\\beta)$ times *smaller* than when $x=0$.\n",
    "\n",
    "Now we can reproduce Figure 4.15:"
   ]
  },
  {
   "cell_type": "code",
   "execution_count": 12,
   "metadata": {},
   "outputs": [
    {
     "data": {
      "image/png": "[encoded data removed]",
      "text/plain": [
       "<Figure size 432x288 with 1 Axes>"
      ]
     },
     "metadata": {
      "needs_background": "light"
     },
     "output_type": "display_data"
    },
    {
     "data": {
      "image/png": "[encoded data removed]",
      "text/plain": [
       "<Figure size 432x288 with 1 Axes>"
      ]
     },
     "metadata": {
      "needs_background": "light"
     },
     "output_type": "display_data"
    }
   ],
   "source": [
    "months = coefficients[2:14]\n",
    "months = months.reindex([\"mnth_Jan\",\"mnth_Feb\",\"mnth_March\",\"mnth_April\",\"mnth_May\",\n",
    "    \"mnth_June\",\"mnth_July\",\"mnth_Aug\",\"mnth_Sept\",\"mnth_Oct\",\"mnth_Nov\",\"mnth_Dec\"])\n",
    "months.index = [\"Jan\", \"Feb\", \"Mar\", \"Apr\", \"May\", \"Jun\", \"Jul\", \"Aug\", \"Sep\", \"Oct\", \"Nov\", \"Dec\"]\n",
    "plt.plot(months)\n",
    "plt.xlabel(\"Month\")\n",
    "plt.ylabel(\"Coefficient\")\n",
    "plt.show()\n",
    "\n",
    "hours = coefficients[14:38]\n",
    "hours.index = list(range(1,25))\n",
    "plt.plot(hours)\n",
    "plt.xlabel(\"Hour\")\n",
    "plt.ylabel(\"Coefficient\")\n",
    "plt.xlim(0.5,24.5)\n",
    "plt.show()"
   ]
  },
  {
   "cell_type": "markdown",
   "metadata": {},
   "source": [
    "\n",
    "To obtain the fitted values from this Poisson regression model, we use `predict()` to get:\n",
    "\n",
    "$$exp(\\hat{\\beta_0} + \\hat{\\beta_1}X_1 + \\ldots \\hat{\\beta_p}X_p)$$\n",
    "\n",
    "And then we compare the results with the predictions of a linear model\n"
   ]
  },
  {
   "cell_type": "code",
   "execution_count": 14,
   "metadata": {},
   "outputs": [
    {
     "data": {
      "image/png": "[encoded data removed]",
      "text/plain": [
       "<Figure size 432x288 with 1 Axes>"
      ]
     },
     "metadata": {
      "needs_background": "light"
     },
     "output_type": "display_data"
    }
   ],
   "source": [
    "pois_predictions = mod_pois.predict(predictors)\n",
    "\n",
    "mod_lm = LinearRegression()\n",
    "mod_lm.fit(predictors,dataf[\"bikers\"])\n",
    "\n",
    "lm_predictions = mod_lm.predict(predictors)\n",
    "\n",
    "plt.scatter(lm_predictions,pois_predictions,s=1)\n",
    "plt.plot(range(0,600),range(0,600),c=\"r\")\n",
    "plt.xlabel(\"Linear Model Prediction\")\n",
    "plt.ylabel(\"Poisson Prediction\")\n",
    "plt.xlim(-175,500)\n",
    "plt.ylim(0,600)\n",
    "plt.show()"
   ]
  },
  {
   "cell_type": "markdown",
   "metadata": {},
   "source": [
    "The predictions from the Poisson regression model tend to be larger than those from the linear model for very low or very high levels of `bikers`: this is because the Poisson predictions are non-negative."
   ]
  }
 ],
 "metadata": {
  "kernelspec": {
   "display_name": "Python 3.10.2 64-bit",
   "language": "python",
   "name": "python3"
  },
  "language_info": {
   "codemirror_mode": {
    "name": "ipython",
    "version": 3
   },
   "file_extension": ".py",
   "mimetype": "text/x-python",
   "name": "python",
   "nbconvert_exporter": "python",
   "pygments_lexer": "ipython3",
   "version": "3.10.2"
  },
  "orig_nbformat": 4,
  "vscode": {
   "interpreter": {
    "hash": "8ef1f07cb18434ef95914a4d8d558662cc29d983cf4dc25a837a646cd438392d"
   }
  }
 },
 "nbformat": 4,
 "nbformat_minor": 2
}
